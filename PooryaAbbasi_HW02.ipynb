{
  "nbformat": 4,
  "nbformat_minor": 0,
  "metadata": {
    "colab": {
      "name": "PooryaAbbasi_HW02",
      "provenance": [],
      "collapsed_sections": [],
      "include_colab_link": true
    },
    "kernelspec": {
      "name": "python3",
      "display_name": "Python 3"
    },
    "language_info": {
      "name": "python"
    }
  },
  "cells": [
    {
      "cell_type": "markdown",
      "metadata": {
        "id": "view-in-github",
        "colab_type": "text"
      },
      "source": [
        "<a href=\"https://colab.research.google.com/github/poorya-abbasi/DL-HW02/blob/main/PooryaAbbasi_HW02.ipynb\" target=\"_parent\"><img src=\"https://colab.research.google.com/assets/colab-badge.svg\" alt=\"Open In Colab\"/></a>"
      ]
    },
    {
      "cell_type": "markdown",
      "source": [
        "# ***Libraries & Constants***"
      ],
      "metadata": {
        "id": "TopdEIaCyasv"
      }
    },
    {
      "cell_type": "code",
      "execution_count": 1,
      "metadata": {
        "id": "8wXLgz_EYiFr"
      },
      "outputs": [],
      "source": [
        "import os\n",
        "import pandas as pd\n",
        "import seaborn as sns\n",
        "import numpy as np\n",
        "import matplotlib.pyplot as plt\n",
        "from sklearn.preprocessing import LabelEncoder\n",
        "from sklearn.model_selection import train_test_split"
      ]
    },
    {
      "cell_type": "code",
      "source": [
        "!gdown --id 1-Zyp-JP3f9QhPKaErBkPPFNKaPS1v74u"
      ],
      "metadata": {
        "colab": {
          "base_uri": "https://localhost:8080/"
        },
        "id": "lirSlJSTYqd6",
        "outputId": "f22c482d-6ce2-4db2-82c9-526016941b37"
      },
      "execution_count": 2,
      "outputs": [
        {
          "output_type": "stream",
          "name": "stdout",
          "text": [
            "/usr/local/lib/python3.7/dist-packages/gdown/cli.py:131: FutureWarning: Option `--id` was deprecated in version 4.3.1 and will be removed in 5.0. You don't need to pass it anymore to use a file ID.\n",
            "  category=FutureWarning,\n",
            "Downloading...\n",
            "From: https://drive.google.com/uc?id=1-Zyp-JP3f9QhPKaErBkPPFNKaPS1v74u\n",
            "To: /content/Dataset.csv\n",
            "100% 38.0k/38.0k [00:00<00:00, 35.6MB/s]\n"
          ]
        }
      ]
    },
    {
      "cell_type": "code",
      "source": [
        "categorical_attr = ['gender', 'NationalITy', 'PlaceofBirth', 'StageID', 'GradeID', 'SectionID', 'Topic', 'Semester', 'Relation', 'ParentAnsweringSurvey', 'ParentschoolSatisfaction', 'StudentAbsenceDays', 'Class']"
      ],
      "metadata": {
        "id": "WrvvhoNxYtkt"
      },
      "execution_count": 3,
      "outputs": []
    },
    {
      "cell_type": "markdown",
      "source": [
        "# ***Preprocessing***\n",
        "\n",
        "Reading & displaying data:"
      ],
      "metadata": {
        "id": "iZ0yQWRPY2vx"
      }
    },
    {
      "cell_type": "code",
      "source": [
        "df = pd.read_csv('/content/Dataset.csv')\n",
        "df.head()"
      ],
      "metadata": {
        "colab": {
          "base_uri": "https://localhost:8080/",
          "height": 0
        },
        "id": "BVPm_CFfYxjw",
        "outputId": "957be4d3-7f2e-426d-f154-6533a78fe8d1"
      },
      "execution_count": 21,
      "outputs": [
        {
          "output_type": "execute_result",
          "data": {
            "text/plain": [
              "  gender NationalITy PlaceofBirth     StageID GradeID SectionID Topic  \\\n",
              "0      M          KW       KuwaIT  lowerlevel    G-04         A    IT   \n",
              "1      M          KW       KuwaIT  lowerlevel    G-04         A    IT   \n",
              "2      M          KW       KuwaIT  lowerlevel    G-04         A    IT   \n",
              "3      M          KW       KuwaIT  lowerlevel    G-04         A    IT   \n",
              "4      M          KW       KuwaIT  lowerlevel    G-04         A    IT   \n",
              "\n",
              "  Semester Relation  raisedhands  VisITedResources  AnnouncementsView  \\\n",
              "0        F   Father           15                16                  2   \n",
              "1        F   Father           20                20                  3   \n",
              "2        F   Father           10                 7                  0   \n",
              "3        F   Father           30                25                  5   \n",
              "4        F   Father           40                50                 12   \n",
              "\n",
              "   Discussion ParentAnsweringSurvey ParentschoolSatisfaction  \\\n",
              "0          20                   Yes                     Good   \n",
              "1          25                   Yes                     Good   \n",
              "2          30                    No                      Bad   \n",
              "3          35                    No                      Bad   \n",
              "4          50                    No                      Bad   \n",
              "\n",
              "  StudentAbsenceDays Class  \n",
              "0            Under-7     M  \n",
              "1            Under-7     M  \n",
              "2            Above-7     L  \n",
              "3            Above-7     L  \n",
              "4            Above-7     M  "
            ],
            "text/html": [
              "\n",
              "  <div id=\"df-098fcb11-f1e4-4538-8530-5c46ff63f000\">\n",
              "    <div class=\"colab-df-container\">\n",
              "      <div>\n",
              "<style scoped>\n",
              "    .dataframe tbody tr th:only-of-type {\n",
              "        vertical-align: middle;\n",
              "    }\n",
              "\n",
              "    .dataframe tbody tr th {\n",
              "        vertical-align: top;\n",
              "    }\n",
              "\n",
              "    .dataframe thead th {\n",
              "        text-align: right;\n",
              "    }\n",
              "</style>\n",
              "<table border=\"1\" class=\"dataframe\">\n",
              "  <thead>\n",
              "    <tr style=\"text-align: right;\">\n",
              "      <th></th>\n",
              "      <th>gender</th>\n",
              "      <th>NationalITy</th>\n",
              "      <th>PlaceofBirth</th>\n",
              "      <th>StageID</th>\n",
              "      <th>GradeID</th>\n",
              "      <th>SectionID</th>\n",
              "      <th>Topic</th>\n",
              "      <th>Semester</th>\n",
              "      <th>Relation</th>\n",
              "      <th>raisedhands</th>\n",
              "      <th>VisITedResources</th>\n",
              "      <th>AnnouncementsView</th>\n",
              "      <th>Discussion</th>\n",
              "      <th>ParentAnsweringSurvey</th>\n",
              "      <th>ParentschoolSatisfaction</th>\n",
              "      <th>StudentAbsenceDays</th>\n",
              "      <th>Class</th>\n",
              "    </tr>\n",
              "  </thead>\n",
              "  <tbody>\n",
              "    <tr>\n",
              "      <th>0</th>\n",
              "      <td>M</td>\n",
              "      <td>KW</td>\n",
              "      <td>KuwaIT</td>\n",
              "      <td>lowerlevel</td>\n",
              "      <td>G-04</td>\n",
              "      <td>A</td>\n",
              "      <td>IT</td>\n",
              "      <td>F</td>\n",
              "      <td>Father</td>\n",
              "      <td>15</td>\n",
              "      <td>16</td>\n",
              "      <td>2</td>\n",
              "      <td>20</td>\n",
              "      <td>Yes</td>\n",
              "      <td>Good</td>\n",
              "      <td>Under-7</td>\n",
              "      <td>M</td>\n",
              "    </tr>\n",
              "    <tr>\n",
              "      <th>1</th>\n",
              "      <td>M</td>\n",
              "      <td>KW</td>\n",
              "      <td>KuwaIT</td>\n",
              "      <td>lowerlevel</td>\n",
              "      <td>G-04</td>\n",
              "      <td>A</td>\n",
              "      <td>IT</td>\n",
              "      <td>F</td>\n",
              "      <td>Father</td>\n",
              "      <td>20</td>\n",
              "      <td>20</td>\n",
              "      <td>3</td>\n",
              "      <td>25</td>\n",
              "      <td>Yes</td>\n",
              "      <td>Good</td>\n",
              "      <td>Under-7</td>\n",
              "      <td>M</td>\n",
              "    </tr>\n",
              "    <tr>\n",
              "      <th>2</th>\n",
              "      <td>M</td>\n",
              "      <td>KW</td>\n",
              "      <td>KuwaIT</td>\n",
              "      <td>lowerlevel</td>\n",
              "      <td>G-04</td>\n",
              "      <td>A</td>\n",
              "      <td>IT</td>\n",
              "      <td>F</td>\n",
              "      <td>Father</td>\n",
              "      <td>10</td>\n",
              "      <td>7</td>\n",
              "      <td>0</td>\n",
              "      <td>30</td>\n",
              "      <td>No</td>\n",
              "      <td>Bad</td>\n",
              "      <td>Above-7</td>\n",
              "      <td>L</td>\n",
              "    </tr>\n",
              "    <tr>\n",
              "      <th>3</th>\n",
              "      <td>M</td>\n",
              "      <td>KW</td>\n",
              "      <td>KuwaIT</td>\n",
              "      <td>lowerlevel</td>\n",
              "      <td>G-04</td>\n",
              "      <td>A</td>\n",
              "      <td>IT</td>\n",
              "      <td>F</td>\n",
              "      <td>Father</td>\n",
              "      <td>30</td>\n",
              "      <td>25</td>\n",
              "      <td>5</td>\n",
              "      <td>35</td>\n",
              "      <td>No</td>\n",
              "      <td>Bad</td>\n",
              "      <td>Above-7</td>\n",
              "      <td>L</td>\n",
              "    </tr>\n",
              "    <tr>\n",
              "      <th>4</th>\n",
              "      <td>M</td>\n",
              "      <td>KW</td>\n",
              "      <td>KuwaIT</td>\n",
              "      <td>lowerlevel</td>\n",
              "      <td>G-04</td>\n",
              "      <td>A</td>\n",
              "      <td>IT</td>\n",
              "      <td>F</td>\n",
              "      <td>Father</td>\n",
              "      <td>40</td>\n",
              "      <td>50</td>\n",
              "      <td>12</td>\n",
              "      <td>50</td>\n",
              "      <td>No</td>\n",
              "      <td>Bad</td>\n",
              "      <td>Above-7</td>\n",
              "      <td>M</td>\n",
              "    </tr>\n",
              "  </tbody>\n",
              "</table>\n",
              "</div>\n",
              "      <button class=\"colab-df-convert\" onclick=\"convertToInteractive('df-098fcb11-f1e4-4538-8530-5c46ff63f000')\"\n",
              "              title=\"Convert this dataframe to an interactive table.\"\n",
              "              style=\"display:none;\">\n",
              "        \n",
              "  <svg xmlns=\"http://www.w3.org/2000/svg\" height=\"24px\"viewBox=\"0 0 24 24\"\n",
              "       width=\"24px\">\n",
              "    <path d=\"M0 0h24v24H0V0z\" fill=\"none\"/>\n",
              "    <path d=\"M18.56 5.44l.94 2.06.94-2.06 2.06-.94-2.06-.94-.94-2.06-.94 2.06-2.06.94zm-11 1L8.5 8.5l.94-2.06 2.06-.94-2.06-.94L8.5 2.5l-.94 2.06-2.06.94zm10 10l.94 2.06.94-2.06 2.06-.94-2.06-.94-.94-2.06-.94 2.06-2.06.94z\"/><path d=\"M17.41 7.96l-1.37-1.37c-.4-.4-.92-.59-1.43-.59-.52 0-1.04.2-1.43.59L10.3 9.45l-7.72 7.72c-.78.78-.78 2.05 0 2.83L4 21.41c.39.39.9.59 1.41.59.51 0 1.02-.2 1.41-.59l7.78-7.78 2.81-2.81c.8-.78.8-2.07 0-2.86zM5.41 20L4 18.59l7.72-7.72 1.47 1.35L5.41 20z\"/>\n",
              "  </svg>\n",
              "      </button>\n",
              "      \n",
              "  <style>\n",
              "    .colab-df-container {\n",
              "      display:flex;\n",
              "      flex-wrap:wrap;\n",
              "      gap: 12px;\n",
              "    }\n",
              "\n",
              "    .colab-df-convert {\n",
              "      background-color: #E8F0FE;\n",
              "      border: none;\n",
              "      border-radius: 50%;\n",
              "      cursor: pointer;\n",
              "      display: none;\n",
              "      fill: #1967D2;\n",
              "      height: 32px;\n",
              "      padding: 0 0 0 0;\n",
              "      width: 32px;\n",
              "    }\n",
              "\n",
              "    .colab-df-convert:hover {\n",
              "      background-color: #E2EBFA;\n",
              "      box-shadow: 0px 1px 2px rgba(60, 64, 67, 0.3), 0px 1px 3px 1px rgba(60, 64, 67, 0.15);\n",
              "      fill: #174EA6;\n",
              "    }\n",
              "\n",
              "    [theme=dark] .colab-df-convert {\n",
              "      background-color: #3B4455;\n",
              "      fill: #D2E3FC;\n",
              "    }\n",
              "\n",
              "    [theme=dark] .colab-df-convert:hover {\n",
              "      background-color: #434B5C;\n",
              "      box-shadow: 0px 1px 3px 1px rgba(0, 0, 0, 0.15);\n",
              "      filter: drop-shadow(0px 1px 2px rgba(0, 0, 0, 0.3));\n",
              "      fill: #FFFFFF;\n",
              "    }\n",
              "  </style>\n",
              "\n",
              "      <script>\n",
              "        const buttonEl =\n",
              "          document.querySelector('#df-098fcb11-f1e4-4538-8530-5c46ff63f000 button.colab-df-convert');\n",
              "        buttonEl.style.display =\n",
              "          google.colab.kernel.accessAllowed ? 'block' : 'none';\n",
              "\n",
              "        async function convertToInteractive(key) {\n",
              "          const element = document.querySelector('#df-098fcb11-f1e4-4538-8530-5c46ff63f000');\n",
              "          const dataTable =\n",
              "            await google.colab.kernel.invokeFunction('convertToInteractive',\n",
              "                                                     [key], {});\n",
              "          if (!dataTable) return;\n",
              "\n",
              "          const docLinkHtml = 'Like what you see? Visit the ' +\n",
              "            '<a target=\"_blank\" href=https://colab.research.google.com/notebooks/data_table.ipynb>data table notebook</a>'\n",
              "            + ' to learn more about interactive tables.';\n",
              "          element.innerHTML = '';\n",
              "          dataTable['output_type'] = 'display_data';\n",
              "          await google.colab.output.renderOutput(dataTable, element);\n",
              "          const docLink = document.createElement('div');\n",
              "          docLink.innerHTML = docLinkHtml;\n",
              "          element.appendChild(docLink);\n",
              "        }\n",
              "      </script>\n",
              "    </div>\n",
              "  </div>\n",
              "  "
            ]
          },
          "metadata": {},
          "execution_count": 21
        }
      ]
    },
    {
      "cell_type": "code",
      "source": [
        "print(df.shape)"
      ],
      "metadata": {
        "colab": {
          "base_uri": "https://localhost:8080/"
        },
        "id": "oDkmtX73p6S1",
        "outputId": "d87e47a3-5428-4c1b-97cc-6092ca9dd3f2"
      },
      "execution_count": 22,
      "outputs": [
        {
          "output_type": "stream",
          "name": "stdout",
          "text": [
            "(480, 17)\n"
          ]
        }
      ]
    },
    {
      "cell_type": "code",
      "source": [
        "# Converting Categorical values to scaler values\n",
        "le = LabelEncoder()\n",
        "df[categorical_attr] = df[categorical_attr].apply(le.fit_transform, axis=0)\n",
        "\n"
      ],
      "metadata": {
        "id": "8o2lOEhwZEx_"
      },
      "execution_count": 23,
      "outputs": []
    },
    {
      "cell_type": "code",
      "source": [
        "df.head()"
      ],
      "metadata": {
        "colab": {
          "base_uri": "https://localhost:8080/",
          "height": 0
        },
        "id": "gKyEl77qy56y",
        "outputId": "29f10ae8-245a-4987-f7e6-14986820beee"
      },
      "execution_count": 24,
      "outputs": [
        {
          "output_type": "execute_result",
          "data": {
            "text/plain": [
              "   gender  NationalITy  PlaceofBirth  StageID  GradeID  SectionID  Topic  \\\n",
              "0       1            4             4        2        1          0      7   \n",
              "1       1            4             4        2        1          0      7   \n",
              "2       1            4             4        2        1          0      7   \n",
              "3       1            4             4        2        1          0      7   \n",
              "4       1            4             4        2        1          0      7   \n",
              "\n",
              "   Semester  Relation  raisedhands  VisITedResources  AnnouncementsView  \\\n",
              "0         0         0           15                16                  2   \n",
              "1         0         0           20                20                  3   \n",
              "2         0         0           10                 7                  0   \n",
              "3         0         0           30                25                  5   \n",
              "4         0         0           40                50                 12   \n",
              "\n",
              "   Discussion  ParentAnsweringSurvey  ParentschoolSatisfaction  \\\n",
              "0          20                      1                         1   \n",
              "1          25                      1                         1   \n",
              "2          30                      0                         0   \n",
              "3          35                      0                         0   \n",
              "4          50                      0                         0   \n",
              "\n",
              "   StudentAbsenceDays  Class  \n",
              "0                   1      2  \n",
              "1                   1      2  \n",
              "2                   0      1  \n",
              "3                   0      1  \n",
              "4                   0      2  "
            ],
            "text/html": [
              "\n",
              "  <div id=\"df-4751177b-57d8-4a45-9e53-6ea81705d795\">\n",
              "    <div class=\"colab-df-container\">\n",
              "      <div>\n",
              "<style scoped>\n",
              "    .dataframe tbody tr th:only-of-type {\n",
              "        vertical-align: middle;\n",
              "    }\n",
              "\n",
              "    .dataframe tbody tr th {\n",
              "        vertical-align: top;\n",
              "    }\n",
              "\n",
              "    .dataframe thead th {\n",
              "        text-align: right;\n",
              "    }\n",
              "</style>\n",
              "<table border=\"1\" class=\"dataframe\">\n",
              "  <thead>\n",
              "    <tr style=\"text-align: right;\">\n",
              "      <th></th>\n",
              "      <th>gender</th>\n",
              "      <th>NationalITy</th>\n",
              "      <th>PlaceofBirth</th>\n",
              "      <th>StageID</th>\n",
              "      <th>GradeID</th>\n",
              "      <th>SectionID</th>\n",
              "      <th>Topic</th>\n",
              "      <th>Semester</th>\n",
              "      <th>Relation</th>\n",
              "      <th>raisedhands</th>\n",
              "      <th>VisITedResources</th>\n",
              "      <th>AnnouncementsView</th>\n",
              "      <th>Discussion</th>\n",
              "      <th>ParentAnsweringSurvey</th>\n",
              "      <th>ParentschoolSatisfaction</th>\n",
              "      <th>StudentAbsenceDays</th>\n",
              "      <th>Class</th>\n",
              "    </tr>\n",
              "  </thead>\n",
              "  <tbody>\n",
              "    <tr>\n",
              "      <th>0</th>\n",
              "      <td>1</td>\n",
              "      <td>4</td>\n",
              "      <td>4</td>\n",
              "      <td>2</td>\n",
              "      <td>1</td>\n",
              "      <td>0</td>\n",
              "      <td>7</td>\n",
              "      <td>0</td>\n",
              "      <td>0</td>\n",
              "      <td>15</td>\n",
              "      <td>16</td>\n",
              "      <td>2</td>\n",
              "      <td>20</td>\n",
              "      <td>1</td>\n",
              "      <td>1</td>\n",
              "      <td>1</td>\n",
              "      <td>2</td>\n",
              "    </tr>\n",
              "    <tr>\n",
              "      <th>1</th>\n",
              "      <td>1</td>\n",
              "      <td>4</td>\n",
              "      <td>4</td>\n",
              "      <td>2</td>\n",
              "      <td>1</td>\n",
              "      <td>0</td>\n",
              "      <td>7</td>\n",
              "      <td>0</td>\n",
              "      <td>0</td>\n",
              "      <td>20</td>\n",
              "      <td>20</td>\n",
              "      <td>3</td>\n",
              "      <td>25</td>\n",
              "      <td>1</td>\n",
              "      <td>1</td>\n",
              "      <td>1</td>\n",
              "      <td>2</td>\n",
              "    </tr>\n",
              "    <tr>\n",
              "      <th>2</th>\n",
              "      <td>1</td>\n",
              "      <td>4</td>\n",
              "      <td>4</td>\n",
              "      <td>2</td>\n",
              "      <td>1</td>\n",
              "      <td>0</td>\n",
              "      <td>7</td>\n",
              "      <td>0</td>\n",
              "      <td>0</td>\n",
              "      <td>10</td>\n",
              "      <td>7</td>\n",
              "      <td>0</td>\n",
              "      <td>30</td>\n",
              "      <td>0</td>\n",
              "      <td>0</td>\n",
              "      <td>0</td>\n",
              "      <td>1</td>\n",
              "    </tr>\n",
              "    <tr>\n",
              "      <th>3</th>\n",
              "      <td>1</td>\n",
              "      <td>4</td>\n",
              "      <td>4</td>\n",
              "      <td>2</td>\n",
              "      <td>1</td>\n",
              "      <td>0</td>\n",
              "      <td>7</td>\n",
              "      <td>0</td>\n",
              "      <td>0</td>\n",
              "      <td>30</td>\n",
              "      <td>25</td>\n",
              "      <td>5</td>\n",
              "      <td>35</td>\n",
              "      <td>0</td>\n",
              "      <td>0</td>\n",
              "      <td>0</td>\n",
              "      <td>1</td>\n",
              "    </tr>\n",
              "    <tr>\n",
              "      <th>4</th>\n",
              "      <td>1</td>\n",
              "      <td>4</td>\n",
              "      <td>4</td>\n",
              "      <td>2</td>\n",
              "      <td>1</td>\n",
              "      <td>0</td>\n",
              "      <td>7</td>\n",
              "      <td>0</td>\n",
              "      <td>0</td>\n",
              "      <td>40</td>\n",
              "      <td>50</td>\n",
              "      <td>12</td>\n",
              "      <td>50</td>\n",
              "      <td>0</td>\n",
              "      <td>0</td>\n",
              "      <td>0</td>\n",
              "      <td>2</td>\n",
              "    </tr>\n",
              "  </tbody>\n",
              "</table>\n",
              "</div>\n",
              "      <button class=\"colab-df-convert\" onclick=\"convertToInteractive('df-4751177b-57d8-4a45-9e53-6ea81705d795')\"\n",
              "              title=\"Convert this dataframe to an interactive table.\"\n",
              "              style=\"display:none;\">\n",
              "        \n",
              "  <svg xmlns=\"http://www.w3.org/2000/svg\" height=\"24px\"viewBox=\"0 0 24 24\"\n",
              "       width=\"24px\">\n",
              "    <path d=\"M0 0h24v24H0V0z\" fill=\"none\"/>\n",
              "    <path d=\"M18.56 5.44l.94 2.06.94-2.06 2.06-.94-2.06-.94-.94-2.06-.94 2.06-2.06.94zm-11 1L8.5 8.5l.94-2.06 2.06-.94-2.06-.94L8.5 2.5l-.94 2.06-2.06.94zm10 10l.94 2.06.94-2.06 2.06-.94-2.06-.94-.94-2.06-.94 2.06-2.06.94z\"/><path d=\"M17.41 7.96l-1.37-1.37c-.4-.4-.92-.59-1.43-.59-.52 0-1.04.2-1.43.59L10.3 9.45l-7.72 7.72c-.78.78-.78 2.05 0 2.83L4 21.41c.39.39.9.59 1.41.59.51 0 1.02-.2 1.41-.59l7.78-7.78 2.81-2.81c.8-.78.8-2.07 0-2.86zM5.41 20L4 18.59l7.72-7.72 1.47 1.35L5.41 20z\"/>\n",
              "  </svg>\n",
              "      </button>\n",
              "      \n",
              "  <style>\n",
              "    .colab-df-container {\n",
              "      display:flex;\n",
              "      flex-wrap:wrap;\n",
              "      gap: 12px;\n",
              "    }\n",
              "\n",
              "    .colab-df-convert {\n",
              "      background-color: #E8F0FE;\n",
              "      border: none;\n",
              "      border-radius: 50%;\n",
              "      cursor: pointer;\n",
              "      display: none;\n",
              "      fill: #1967D2;\n",
              "      height: 32px;\n",
              "      padding: 0 0 0 0;\n",
              "      width: 32px;\n",
              "    }\n",
              "\n",
              "    .colab-df-convert:hover {\n",
              "      background-color: #E2EBFA;\n",
              "      box-shadow: 0px 1px 2px rgba(60, 64, 67, 0.3), 0px 1px 3px 1px rgba(60, 64, 67, 0.15);\n",
              "      fill: #174EA6;\n",
              "    }\n",
              "\n",
              "    [theme=dark] .colab-df-convert {\n",
              "      background-color: #3B4455;\n",
              "      fill: #D2E3FC;\n",
              "    }\n",
              "\n",
              "    [theme=dark] .colab-df-convert:hover {\n",
              "      background-color: #434B5C;\n",
              "      box-shadow: 0px 1px 3px 1px rgba(0, 0, 0, 0.15);\n",
              "      filter: drop-shadow(0px 1px 2px rgba(0, 0, 0, 0.3));\n",
              "      fill: #FFFFFF;\n",
              "    }\n",
              "  </style>\n",
              "\n",
              "      <script>\n",
              "        const buttonEl =\n",
              "          document.querySelector('#df-4751177b-57d8-4a45-9e53-6ea81705d795 button.colab-df-convert');\n",
              "        buttonEl.style.display =\n",
              "          google.colab.kernel.accessAllowed ? 'block' : 'none';\n",
              "\n",
              "        async function convertToInteractive(key) {\n",
              "          const element = document.querySelector('#df-4751177b-57d8-4a45-9e53-6ea81705d795');\n",
              "          const dataTable =\n",
              "            await google.colab.kernel.invokeFunction('convertToInteractive',\n",
              "                                                     [key], {});\n",
              "          if (!dataTable) return;\n",
              "\n",
              "          const docLinkHtml = 'Like what you see? Visit the ' +\n",
              "            '<a target=\"_blank\" href=https://colab.research.google.com/notebooks/data_table.ipynb>data table notebook</a>'\n",
              "            + ' to learn more about interactive tables.';\n",
              "          element.innerHTML = '';\n",
              "          dataTable['output_type'] = 'display_data';\n",
              "          await google.colab.output.renderOutput(dataTable, element);\n",
              "          const docLink = document.createElement('div');\n",
              "          docLink.innerHTML = docLinkHtml;\n",
              "          element.appendChild(docLink);\n",
              "        }\n",
              "      </script>\n",
              "    </div>\n",
              "  </div>\n",
              "  "
            ]
          },
          "metadata": {},
          "execution_count": 24
        }
      ]
    },
    {
      "cell_type": "code",
      "source": [
        "# X: Features, y: Classes\n",
        "X = np.array(df.iloc[:, :-1])\n",
        "y = np.array(df['Class'])\n"
      ],
      "metadata": {
        "id": "taUy4jmjZJRN"
      },
      "execution_count": 25,
      "outputs": []
    },
    {
      "cell_type": "code",
      "source": [
        "# Deviding Dataset to training and validation set\n",
        "X_train, X_test, y_train, y_test = train_test_split(X, y, test_size=0.2, random_state=12)"
      ],
      "metadata": {
        "id": "nBMIXI-aZKGw"
      },
      "execution_count": 26,
      "outputs": []
    },
    {
      "cell_type": "code",
      "source": [
        "print('Number of dataset: ', len(X))\n",
        "print('Number of train set: ', len(X_train))\n",
        "print('Number of validation set: ', len(X_test))\n",
        "\n",
        "print('Shape of training set features ' ,np.shape(X_train))\n",
        "print('Shape of training. set classes ' ,np.shape(y_train))\n",
        "print('Shape of validation set features ' ,np.shape(X_test))\n",
        "print('Shape of validation set classes ' ,np.shape(y_test))\n"
      ],
      "metadata": {
        "colab": {
          "base_uri": "https://localhost:8080/"
        },
        "id": "jEozQo3ZZe74",
        "outputId": "64a36b0a-d961-4f41-f7b6-64c6bc74e62d"
      },
      "execution_count": 27,
      "outputs": [
        {
          "output_type": "stream",
          "name": "stdout",
          "text": [
            "Number of dataset:  480\n",
            "Number of train set:  384\n",
            "Number of validation set:  96\n",
            "Shape of training set features  (384, 16)\n",
            "Shape of training. set classes  (384,)\n",
            "Shape of validation set features  (96, 16)\n",
            "Shape of validation set classes  (96,)\n"
          ]
        }
      ]
    },
    {
      "cell_type": "code",
      "source": [
        "from keras.utils import np_utils\n",
        "y_train_cat = np_utils.to_categorical(y_train)\n",
        "y_test_cat = np_utils.to_categorical(y_test)\n"
      ],
      "metadata": {
        "id": "5vnmJTquN57w"
      },
      "execution_count": 28,
      "outputs": []
    },
    {
      "cell_type": "markdown",
      "source": [
        "# ***Implementing Models***"
      ],
      "metadata": {
        "id": "p8uXlAKL0fpU"
      }
    },
    {
      "cell_type": "code",
      "source": [
        "from keras.models import Sequential\n",
        "from keras.layers import Dense, Dropout, LSTM, BatchNormalization\n",
        "from keras.callbacks import TensorBoard\n",
        "from keras.callbacks import ModelCheckpoint\n",
        "import tensorflow as tf\n",
        "from tensorflow.keras.optimizers import Adam, SGD, RMSprop\n",
        "\n",
        "#Config\n",
        "modelCount = 4\n",
        "modelLabels = ['5 Layers, 16 Units, ReLu','6 Layers, 32 Units, ReLu','3 Layers, 20 Units, Relu','1 TanH Layer, 6 Layers, 32 Units, ReLu']\n",
        "l_rate = 0.002\n",
        "models = []\n"
      ],
      "metadata": {
        "id": "DfxkIrA_0kkn"
      },
      "execution_count": 29,
      "outputs": []
    },
    {
      "cell_type": "code",
      "source": [
        "def addModel(unitSize,layerCount,function,addTanH = False,addReLu = False):\n",
        "  model = Sequential()\n",
        "  #Input Layer\n",
        "  model.add(BatchNormalization(input_shape=(16,)))\n",
        "  #Invoking TanH\n",
        "  if addTanH:\n",
        "    model.add(Dense(20,kernel_regularizer='l2',activation='tanh'))\n",
        "  if addReLu:\n",
        "    model.add(Dense(20,activation='relu'))\n",
        "  #Adding Layers\n",
        "  for i in range (0,layerCount):\n",
        "    model.add(Dense(unitSize,kernel_regularizer='l2',activation=function))\n",
        "  #Adding Output Layer\n",
        "  model.add(Dense(3,activation='softmax'))\n",
        "  # model.summary()\n",
        "  opt = Adam(learning_rate=l_rate)\n",
        "  model.compile(optimizer=opt,loss='categorical_crossentropy', metrics=['accuracy'])\n",
        "  models.append(model)\n",
        "  \n",
        "addModel(16,5,'relu')\n",
        "print(modelLabels[0],'ready')\n",
        "addModel(32,6,'relu',addReLu=True)\n",
        "print(modelLabels[1],'ready')\n",
        "addModel(20,3,'relu')\n",
        "print(modelLabels[2],'ready')\n",
        "addModel(32,6,'relu',addTanH=True)\n",
        "print(modelLabels[3],'ready')"
      ],
      "metadata": {
        "id": "qGphLR-cnaLX",
        "colab": {
          "base_uri": "https://localhost:8080/"
        },
        "outputId": "53cfc184-8114-475a-f357-3b2230f77137"
      },
      "execution_count": 30,
      "outputs": [
        {
          "output_type": "stream",
          "name": "stdout",
          "text": [
            "5 Layers, 16 Units, ReLu ready\n",
            "6 Layers, 32 Units, ReLu ready\n",
            "3 Layers, 20 Units, Relu ready\n",
            "1 TanH Layer, 6 Layers, 32 Units, ReLu ready\n"
          ]
        }
      ]
    },
    {
      "cell_type": "markdown",
      "source": [
        "# ***Training the model***"
      ],
      "metadata": {
        "id": "PT4J_POH0lbD"
      }
    },
    {
      "cell_type": "code",
      "source": [
        "histories = []\n",
        "for i in range(0,modelCount):\n",
        "  print(\"Training\", modelLabels[i])\n",
        "  histories.append(models[i].fit(X_train, y_train_cat, epochs=200, validation_split=0.2,verbose = 0).history)"
      ],
      "metadata": {
        "colab": {
          "base_uri": "https://localhost:8080/"
        },
        "id": "1UkFnF6QoFag",
        "outputId": "3ec0f06f-e862-42f5-fe7e-c26fe257964e"
      },
      "execution_count": 31,
      "outputs": [
        {
          "output_type": "stream",
          "name": "stdout",
          "text": [
            "Training 5 Layers, 16 Units, ReLu\n",
            "Training 6 Layers, 32 Units, ReLu\n",
            "Training 3 Layers, 20 Units, Relu\n",
            "Training 1 TanH Layer, 6 Layers, 32 Units, ReLu\n"
          ]
        }
      ]
    },
    {
      "cell_type": "markdown",
      "source": [
        "# ***Evaluating the models***"
      ],
      "metadata": {
        "id": "YPVKG5AS0zeY"
      }
    },
    {
      "cell_type": "code",
      "source": [
        "from sklearn.metrics import classification_report\n",
        "from sklearn.metrics import confusion_matrix\n",
        "import matplotlib.pyplot as plt"
      ],
      "metadata": {
        "id": "LMpFt3yusm29"
      },
      "execution_count": 32,
      "outputs": []
    },
    {
      "cell_type": "markdown",
      "source": [
        "**Train Set**"
      ],
      "metadata": {
        "id": "QJ3EF5w1uGZZ"
      }
    },
    {
      "cell_type": "code",
      "source": [
        "for i in range(0,modelCount):\n",
        "  print(\"Evaluating\",modelLabels[i],\"\\n\")\n",
        "  model = models[i]\n",
        "  _, acc = model.evaluate(X_train,y_train_cat)\n",
        "  print('Accuracy of train set: %.2f' % (acc*100))\n",
        "  y_predict = model.predict(X_train)\n",
        "  y_p=np.argmax(y_predict, axis=1).reshape(384,1)\n",
        "  print('\\n\\nTrain Predict Report===============\\n')\n",
        "  print(classification_report(y_train,y_p))\n",
        "  print('\\n\\nTrain Cunfusion Matrix===============\\n')\n",
        "  matrix_confusion=(confusion_matrix(y_train,y_p))\n",
        "  print(matrix_confusion)\n",
        "  sns.heatmap(matrix_confusion, square=True, annot=True, cmap='Blues', fmt='d', cbar=False)\n",
        "  print(\"\\n\\n================================================================\\n\")\n",
        "\n"
      ],
      "metadata": {
        "id": "RfqYttaa06on",
        "colab": {
          "base_uri": "https://localhost:8080/",
          "height": 0
        },
        "outputId": "fef485da-7d89-4f00-e837-4379bacd35a3"
      },
      "execution_count": 33,
      "outputs": [
        {
          "output_type": "stream",
          "name": "stdout",
          "text": [
            "Evaluating 5 Layers, 16 Units, ReLu \n",
            "\n",
            "12/12 [==============================] - 0s 3ms/step - loss: 0.4240 - accuracy: 0.9271\n",
            "Accuracy of train set: 92.71\n",
            "\n",
            "\n",
            "Train Predict Report===============\n",
            "\n",
            "              precision    recall  f1-score   support\n",
            "\n",
            "           0       0.90      0.87      0.89       103\n",
            "           1       0.98      0.97      0.98       106\n",
            "           2       0.91      0.93      0.92       175\n",
            "\n",
            "    accuracy                           0.93       384\n",
            "   macro avg       0.93      0.93      0.93       384\n",
            "weighted avg       0.93      0.93      0.93       384\n",
            "\n",
            "\n",
            "\n",
            "Train Cunfusion Matrix===============\n",
            "\n",
            "[[ 90   0  13]\n",
            " [  0 103   3]\n",
            " [ 10   2 163]]\n",
            "\n",
            "\n",
            "================================================================\n",
            "\n",
            "Evaluating 6 Layers, 32 Units, ReLu \n",
            "\n",
            "12/12 [==============================] - 0s 2ms/step - loss: 0.4248 - accuracy: 0.9271\n",
            "Accuracy of train set: 92.71\n",
            "\n",
            "\n",
            "Train Predict Report===============\n",
            "\n",
            "              precision    recall  f1-score   support\n",
            "\n",
            "           0       0.89      0.93      0.91       103\n",
            "           1       0.97      0.94      0.96       106\n",
            "           2       0.92      0.91      0.92       175\n",
            "\n",
            "    accuracy                           0.93       384\n",
            "   macro avg       0.93      0.93      0.93       384\n",
            "weighted avg       0.93      0.93      0.93       384\n",
            "\n",
            "\n",
            "\n",
            "Train Cunfusion Matrix===============\n",
            "\n",
            "[[ 96   0   7]\n",
            " [  0 100   6]\n",
            " [ 12   3 160]]\n",
            "\n",
            "\n",
            "================================================================\n",
            "\n",
            "Evaluating 3 Layers, 20 Units, Relu \n",
            "\n",
            "12/12 [==============================] - 0s 2ms/step - loss: 0.3614 - accuracy: 0.9245\n",
            "Accuracy of train set: 92.45\n",
            "\n",
            "\n",
            "Train Predict Report===============\n",
            "\n",
            "              precision    recall  f1-score   support\n",
            "\n",
            "           0       0.87      0.91      0.89       103\n",
            "           1       0.98      0.96      0.97       106\n",
            "           2       0.92      0.91      0.92       175\n",
            "\n",
            "    accuracy                           0.92       384\n",
            "   macro avg       0.93      0.93      0.93       384\n",
            "weighted avg       0.93      0.92      0.92       384\n",
            "\n",
            "\n",
            "\n",
            "Train Cunfusion Matrix===============\n",
            "\n",
            "[[ 94   0   9]\n",
            " [  0 102   4]\n",
            " [ 14   2 159]]\n",
            "\n",
            "\n",
            "================================================================\n",
            "\n",
            "Evaluating 1 TanH Layer, 6 Layers, 32 Units, ReLu \n",
            "\n",
            "12/12 [==============================] - 0s 2ms/step - loss: 0.4708 - accuracy: 0.9297\n",
            "Accuracy of train set: 92.97\n",
            "\n",
            "\n",
            "Train Predict Report===============\n",
            "\n",
            "              precision    recall  f1-score   support\n",
            "\n",
            "           0       0.90      0.91      0.90       103\n",
            "           1       0.95      0.98      0.97       106\n",
            "           2       0.94      0.91      0.92       175\n",
            "\n",
            "    accuracy                           0.93       384\n",
            "   macro avg       0.93      0.93      0.93       384\n",
            "weighted avg       0.93      0.93      0.93       384\n",
            "\n",
            "\n",
            "\n",
            "Train Cunfusion Matrix===============\n",
            "\n",
            "[[ 94   0   9]\n",
            " [  0 104   2]\n",
            " [ 11   5 159]]\n",
            "\n",
            "\n",
            "================================================================\n",
            "\n"
          ]
        },
        {
          "output_type": "display_data",
          "data": {
            "text/plain": [
              "<Figure size 432x288 with 1 Axes>"
            ],
            "image/png": "[encoded data removed]"
          },
          "metadata": {
            "needs_background": "light"
          }
        }
      ]
    },
    {
      "cell_type": "markdown",
      "source": [
        "**Test Set**"
      ],
      "metadata": {
        "id": "PK9EfuK9urkk"
      }
    },
    {
      "cell_type": "code",
      "source": [
        "for i in range(0,modelCount):\n",
        "  print(\"Evaluating\",modelLabels[i],\"\\n\")\n",
        "  model = models[i]\n",
        "  _, acc = model.evaluate(X_test,y_test_cat)\n",
        "  print('Accuracy of train set: %.2f' % (acc*100))\n",
        "  y_predict = model.predict(X_test)\n",
        "  y_p=np.argmax(y_predict, axis=1).reshape(96,1)\n",
        "  print('\\n\\nTest Predict Report===============\\n')\n",
        "  print(classification_report(y_test,y_p))\n",
        "  print('\\n\\nTest Cunfusion Matrix===============\\n')\n",
        "  matrix_confusion=(confusion_matrix(y_test,y_p))\n",
        "  print(matrix_confusion)\n",
        "  sns.heatmap(matrix_confusion, square=True, annot=True, cmap='Blues', fmt='d', cbar=False)\n",
        "  print(\"\\n\\n================================================================\\n\")"
      ],
      "metadata": {
        "colab": {
          "base_uri": "https://localhost:8080/",
          "height": 0
        },
        "id": "2YWyA65iuC8P",
        "outputId": "3c008348-3893-4efc-c65f-9e88eb18c5b1"
      },
      "execution_count": 34,
      "outputs": [
        {
          "output_type": "stream",
          "name": "stdout",
          "text": [
            "Evaluating 5 Layers, 16 Units, ReLu \n",
            "\n",
            "3/3 [==============================] - 0s 4ms/step - loss: 0.9264 - accuracy: 0.7396\n",
            "Accuracy of train set: 73.96\n",
            "\n",
            "\n",
            "Test Predict Report===============\n",
            "\n",
            "              precision    recall  f1-score   support\n",
            "\n",
            "           0       0.86      0.64      0.74        39\n",
            "           1       0.89      0.76      0.82        21\n",
            "           2       0.61      0.83      0.71        36\n",
            "\n",
            "    accuracy                           0.74        96\n",
            "   macro avg       0.79      0.75      0.75        96\n",
            "weighted avg       0.77      0.74      0.74        96\n",
            "\n",
            "\n",
            "\n",
            "Test Cunfusion Matrix===============\n",
            "\n",
            "[[25  0 14]\n",
            " [ 0 16  5]\n",
            " [ 4  2 30]]\n",
            "\n",
            "\n",
            "================================================================\n",
            "\n",
            "Evaluating 6 Layers, 32 Units, ReLu \n",
            "\n",
            "3/3 [==============================] - 0s 6ms/step - loss: 1.1314 - accuracy: 0.7292\n",
            "Accuracy of train set: 72.92\n",
            "\n",
            "\n",
            "Test Predict Report===============\n",
            "\n",
            "              precision    recall  f1-score   support\n",
            "\n",
            "           0       0.82      0.69      0.75        39\n",
            "           1       0.88      0.67      0.76        21\n",
            "           2       0.62      0.81      0.70        36\n",
            "\n",
            "    accuracy                           0.73        96\n",
            "   macro avg       0.77      0.72      0.74        96\n",
            "weighted avg       0.76      0.73      0.73        96\n",
            "\n",
            "\n",
            "\n",
            "Test Cunfusion Matrix===============\n",
            "\n",
            "[[27  1 11]\n",
            " [ 0 14  7]\n",
            " [ 6  1 29]]\n",
            "\n",
            "\n",
            "================================================================\n",
            "\n",
            "Evaluating 3 Layers, 20 Units, Relu \n",
            "\n",
            "3/3 [==============================] - 0s 4ms/step - loss: 0.9509 - accuracy: 0.7083\n",
            "Accuracy of train set: 70.83\n",
            "\n",
            "\n",
            "Test Predict Report===============\n",
            "\n",
            "              precision    recall  f1-score   support\n",
            "\n",
            "           0       0.79      0.67      0.72        39\n",
            "           1       0.88      0.71      0.79        21\n",
            "           2       0.59      0.75      0.66        36\n",
            "\n",
            "    accuracy                           0.71        96\n",
            "   macro avg       0.75      0.71      0.72        96\n",
            "weighted avg       0.73      0.71      0.71        96\n",
            "\n",
            "\n",
            "\n",
            "Test Cunfusion Matrix===============\n",
            "\n",
            "[[26  0 13]\n",
            " [ 0 15  6]\n",
            " [ 7  2 27]]\n",
            "\n",
            "\n",
            "================================================================\n",
            "\n",
            "Evaluating 1 TanH Layer, 6 Layers, 32 Units, ReLu \n",
            "\n",
            "3/3 [==============================] - 0s 4ms/step - loss: 0.8843 - accuracy: 0.7604\n",
            "Accuracy of train set: 76.04\n",
            "\n",
            "\n",
            "Test Predict Report===============\n",
            "\n",
            "              precision    recall  f1-score   support\n",
            "\n",
            "           0       0.86      0.77      0.81        39\n",
            "           1       0.88      0.67      0.76        21\n",
            "           2       0.64      0.81      0.72        36\n",
            "\n",
            "    accuracy                           0.76        96\n",
            "   macro avg       0.79      0.75      0.76        96\n",
            "weighted avg       0.78      0.76      0.76        96\n",
            "\n",
            "\n",
            "\n",
            "Test Cunfusion Matrix===============\n",
            "\n",
            "[[30  0  9]\n",
            " [ 0 14  7]\n",
            " [ 5  2 29]]\n",
            "\n",
            "\n",
            "================================================================\n",
            "\n"
          ]
        },
        {
          "output_type": "display_data",
          "data": {
            "text/plain": [
              "<Figure size 432x288 with 1 Axes>"
            ],
            "image/png": "[encoded data removed]"
          },
          "metadata": {
            "needs_background": "light"
          }
        }
      ]
    },
    {
      "cell_type": "markdown",
      "source": [
        "# Accuracy Plot\n",
        "\n"
      ],
      "metadata": {
        "id": "Fr06AFeeu_v9"
      }
    },
    {
      "cell_type": "code",
      "source": [
        "for i in range(0,modelCount):\n",
        "  print(modelLabels[i],\"\\n\")\n",
        "  plt.plot(histories[i]['accuracy'])\n",
        "  plt.title('Train Accuracy')\n",
        "  plt.xlabel('Epoch')\n",
        "  plt.ylabel('Acc.')\n",
        "  plt.show()\n",
        "  print(\"\\n===================\\n\")\n",
        "\n",
        "\n",
        "for i in range(0,modelCount):\n",
        "  print(modelLabels[i],\"\\n\")\n",
        "  plt.plot(histories[i]['val_accuracy'])\n",
        "  plt.title('Validation Accuracy')\n",
        "  plt.xlabel('Epoch')\n",
        "  plt.ylabel('Acc.')\n",
        "  plt.show()\n",
        "  print(\"\\n===================\\n\")\n"
      ],
      "metadata": {
        "colab": {
          "base_uri": "https://localhost:8080/",
          "height": 0
        },
        "id": "q3yU6ToHi4s9",
        "outputId": "42e2e187-d848-4df7-d752-65878cae7370"
      },
      "execution_count": 35,
      "outputs": [
        {
          "output_type": "stream",
          "name": "stdout",
          "text": [
            "5 Layers, 16 Units, ReLu \n",
            "\n"
          ]
        },
        {
          "output_type": "display_data",
          "data": {
            "text/plain": [
              "<Figure size 432x288 with 1 Axes>"
            ],
            "image/png": "[encoded data removed]"
          },
          "metadata": {
            "needs_background": "light"
          }
        },
        {
          "output_type": "stream",
          "name": "stdout",
          "text": [
            "\n",
            "===================\n",
            "\n",
            "6 Layers, 32 Units, ReLu \n",
            "\n"
          ]
        },
        {
          "output_type": "display_data",
          "data": {
            "text/plain": [
              "<Figure size 432x288 with 1 Axes>"
            ],
            "image/png": "[encoded data removed]"
          },
          "metadata": {
            "needs_background": "light"
          }
        },
        {
          "output_type": "stream",
          "name": "stdout",
          "text": [
            "\n",
            "===================\n",
            "\n",
            "3 Layers, 20 Units, Relu \n",
            "\n"
          ]
        },
        {
          "output_type": "display_data",
          "data": {
            "text/plain": [
              "<Figure size 432x288 with 1 Axes>"
            ],
            "image/png": "[encoded data removed]"
          },
          "metadata": {
            "needs_background": "light"
          }
        },
        {
          "output_type": "stream",
          "name": "stdout",
          "text": [
            "\n",
            "===================\n",
            "\n",
            "1 TanH Layer, 6 Layers, 32 Units, ReLu \n",
            "\n"
          ]
        },
        {
          "output_type": "display_data",
          "data": {
            "text/plain": [
              "<Figure size 432x288 with 1 Axes>"
            ],
            "image/png": "[encoded data removed]"
          },
          "metadata": {
            "needs_background": "light"
          }
        },
        {
          "output_type": "stream",
          "name": "stdout",
          "text": [
            "\n",
            "===================\n",
            "\n",
            "5 Layers, 16 Units, ReLu \n",
            "\n"
          ]
        },
        {
          "output_type": "display_data",
          "data": {
            "text/plain": [
              "<Figure size 432x288 with 1 Axes>"
            ],
            "image/png": "[encoded data removed]"
          },
          "metadata": {
            "needs_background": "light"
          }
        },
        {
          "output_type": "stream",
          "name": "stdout",
          "text": [
            "\n",
            "===================\n",
            "\n",
            "6 Layers, 32 Units, ReLu \n",
            "\n"
          ]
        },
        {
          "output_type": "display_data",
          "data": {
            "text/plain": [
              "<Figure size 432x288 with 1 Axes>"
            ],
            "image/png": "[encoded data removed]"
          },
          "metadata": {
            "needs_background": "light"
          }
        },
        {
          "output_type": "stream",
          "name": "stdout",
          "text": [
            "\n",
            "===================\n",
            "\n",
            "3 Layers, 20 Units, Relu \n",
            "\n"
          ]
        },
        {
          "output_type": "display_data",
          "data": {
            "text/plain": [
              "<Figure size 432x288 with 1 Axes>"
            ],
            "image/png": "[encoded data removed]"
          },
          "metadata": {
            "needs_background": "light"
          }
        },
        {
          "output_type": "stream",
          "name": "stdout",
          "text": [
            "\n",
            "===================\n",
            "\n",
            "1 TanH Layer, 6 Layers, 32 Units, ReLu \n",
            "\n"
          ]
        },
        {
          "output_type": "display_data",
          "data": {
            "text/plain": [
              "<Figure size 432x288 with 1 Axes>"
            ],
            "image/png": "[encoded data removed]"
          },
          "metadata": {
            "needs_background": "light"
          }
        },
        {
          "output_type": "stream",
          "name": "stdout",
          "text": [
            "\n",
            "===================\n",
            "\n"
          ]
        }
      ]
    },
    {
      "cell_type": "markdown",
      "source": [
        "# Loss Plot"
      ],
      "metadata": {
        "id": "dAtOCXVGvOHW"
      }
    },
    {
      "cell_type": "code",
      "source": [
        "for i in range(0,modelCount):\n",
        "  print(modelLabels[i],\"\\n\")\n",
        "  plt.plot(histories[i]['loss'])\n",
        "  plt.title('Train Loss')\n",
        "  plt.xlabel('Epoch')\n",
        "  plt.ylabel('Loss.')\n",
        "  plt.show()\n",
        "  print(\"\\n===================\\n\")\n",
        "\n",
        "for i in range(0,modelCount):\n",
        "  print(modelLabels[i],\"\\n\")\n",
        "  plt.plot(histories[i]['val_loss'])\n",
        "  plt.title('Validation Loss')\n",
        "  plt.xlabel('Epoch')\n",
        "  plt.ylabel('Loss.')\n",
        "  plt.show()\n",
        "  print(\"\\n===================\\n\")\n"
      ],
      "metadata": {
        "colab": {
          "base_uri": "https://localhost:8080/",
          "height": 0
        },
        "id": "SwJxE-nAvVbF",
        "outputId": "efcb35e2-64f9-4050-8fcf-7695e4a92339"
      },
      "execution_count": 36,
      "outputs": [
        {
          "output_type": "stream",
          "name": "stdout",
          "text": [
            "5 Layers, 16 Units, ReLu \n",
            "\n"
          ]
        },
        {
          "output_type": "display_data",
          "data": {
            "text/plain": [
              "<Figure size 432x288 with 1 Axes>"
            ],
            "image/png": "[encoded data removed]"
          },
          "metadata": {
            "needs_background": "light"
          }
        },
        {
          "output_type": "stream",
          "name": "stdout",
          "text": [
            "\n",
            "===================\n",
            "\n",
            "6 Layers, 32 Units, ReLu \n",
            "\n"
          ]
        },
        {
          "output_type": "display_data",
          "data": {
            "text/plain": [
              "<Figure size 432x288 with 1 Axes>"
            ],
            "image/png": "[encoded data removed]"
          },
          "metadata": {
            "needs_background": "light"
          }
        },
        {
          "output_type": "stream",
          "name": "stdout",
          "text": [
            "\n",
            "===================\n",
            "\n",
            "3 Layers, 20 Units, Relu \n",
            "\n"
          ]
        },
        {
          "output_type": "display_data",
          "data": {
            "text/plain": [
              "<Figure size 432x288 with 1 Axes>"
            ],
            "image/png": "[encoded data removed]"
          },
          "metadata": {
            "needs_background": "light"
          }
        },
        {
          "output_type": "stream",
          "name": "stdout",
          "text": [
            "\n",
            "===================\n",
            "\n",
            "1 TanH Layer, 6 Layers, 32 Units, ReLu \n",
            "\n"
          ]
        },
        {
          "output_type": "display_data",
          "data": {
            "text/plain": [
              "<Figure size 432x288 with 1 Axes>"
            ],
            "image/png": "[encoded data removed]"
          },
          "metadata": {
            "needs_background": "light"
          }
        },
        {
          "output_type": "stream",
          "name": "stdout",
          "text": [
            "\n",
            "===================\n",
            "\n",
            "5 Layers, 16 Units, ReLu \n",
            "\n"
          ]
        },
        {
          "output_type": "display_data",
          "data": {
            "text/plain": [
              "<Figure size 432x288 with 1 Axes>"
            ],
            "image/png": "[encoded data removed]"
          },
          "metadata": {
            "needs_background": "light"
          }
        },
        {
          "output_type": "stream",
          "name": "stdout",
          "text": [
            "\n",
            "===================\n",
            "\n",
            "6 Layers, 32 Units, ReLu \n",
            "\n"
          ]
        },
        {
          "output_type": "display_data",
          "data": {
            "text/plain": [
              "<Figure size 432x288 with 1 Axes>"
            ],
            "image/png": "[encoded data removed]"
          },
          "metadata": {
            "needs_background": "light"
          }
        },
        {
          "output_type": "stream",
          "name": "stdout",
          "text": [
            "\n",
            "===================\n",
            "\n",
            "3 Layers, 20 Units, Relu \n",
            "\n"
          ]
        },
        {
          "output_type": "display_data",
          "data": {
            "text/plain": [
              "<Figure size 432x288 with 1 Axes>"
            ],
            "image/png": "[encoded data removed]"
          },
          "metadata": {
            "needs_background": "light"
          }
        },
        {
          "output_type": "stream",
          "name": "stdout",
          "text": [
            "\n",
            "===================\n",
            "\n",
            "1 TanH Layer, 6 Layers, 32 Units, ReLu \n",
            "\n"
          ]
        },
        {
          "output_type": "display_data",
          "data": {
            "text/plain": [
              "<Figure size 432x288 with 1 Axes>"
            ],
            "image/png": "[encoded data removed]"
          },
          "metadata": {
            "needs_background": "light"
          }
        },
        {
          "output_type": "stream",
          "name": "stdout",
          "text": [
            "\n",
            "===================\n",
            "\n"
          ]
        }
      ]
    },
    {
      "cell_type": "markdown",
      "source": [
        "# KFold"
      ],
      "metadata": {
        "id": "B84nHkjaUUnb"
      }
    },
    {
      "cell_type": "code",
      "source": [
        "from sklearn.model_selection import StratifiedKFold\n",
        "\n",
        "kfold = StratifiedKFold(n_splits=5, shuffle=True, random_state=42)\n",
        "for x in range(0,modelCount):\n",
        "  i=0\n",
        "  model=models[x]\n",
        "  print(\"\\n\\n#Model \",x)\n",
        "  for train, val in kfold.split(X_train, y_train):\n",
        "    trainX, valX = X_train[train], X_train[val]\n",
        "    trainY, valY = y_train[train], y_train[val]\n",
        "    valY_cat=np_utils.to_categorical(valY)\n",
        "    trainY_cat=np_utils.to_categorical(trainY)\n",
        "    history=model.fit(trainX, trainY_cat, epochs=200, validation_split=0.2,verbose =0).history\n",
        "    _, acc = model.evaluate(valX,valY_cat)\n",
        "    print(\"\\n\\n#Fold \",i)\n",
        "    print('Accuracy : %.2f' % (acc*100))\n",
        "    y_predict = model.predict(valX)\n",
        "    y_p=np.argmax(y_predict, axis=1)\n",
        "    print('\\n\\nValidate Predict Report ===============\\n')\n",
        "    print(classification_report(valY,y_p))\n",
        "    print('\\n\\nvalidate Cunfusion Matrix===============\\n')\n",
        "    matrix_confusion=(confusion_matrix(valY,y_p))\n",
        "    print(matrix_confusion,\"\\n\")\n",
        "    print('\\n============================\\n')\n",
        "    i+=1\n",
        "print('\\n============================\\n')"
      ],
      "metadata": {
        "colab": {
          "base_uri": "https://localhost:8080/"
        },
        "id": "GwcaH-wzUZ4p",
        "outputId": "ae4ebea2-2dc6-4dbd-bc72-d88636997c5c"
      },
      "execution_count": 39,
      "outputs": [
        {
          "output_type": "stream",
          "name": "stdout",
          "text": [
            "\n",
            "\n",
            "#Model  0\n",
            "3/3 [==============================] - 0s 4ms/step - loss: 0.6364 - accuracy: 0.8442\n",
            "\n",
            "\n",
            "#Fold  0\n",
            "Accuracy : 84.42\n",
            "\n",
            "\n",
            "Validate Predict Report ===============\n",
            "\n",
            "              precision    recall  f1-score   support\n",
            "\n",
            "           0       0.75      0.75      0.75        20\n",
            "           1       0.92      1.00      0.96        22\n",
            "           2       0.85      0.80      0.82        35\n",
            "\n",
            "    accuracy                           0.84        77\n",
            "   macro avg       0.84      0.85      0.84        77\n",
            "weighted avg       0.84      0.84      0.84        77\n",
            "\n",
            "\n",
            "\n",
            "validate Cunfusion Matrix===============\n",
            "\n",
            "[[15  0  5]\n",
            " [ 0 22  0]\n",
            " [ 5  2 28]] \n",
            "\n",
            "\n",
            "============================\n",
            "\n",
            "3/3 [==============================] - 0s 5ms/step - loss: 0.9326 - accuracy: 0.7792\n",
            "\n",
            "\n",
            "#Fold  1\n",
            "Accuracy : 77.92\n",
            "\n",
            "\n",
            "Validate Predict Report ===============\n",
            "\n",
            "              precision    recall  f1-score   support\n",
            "\n",
            "           0       0.76      0.76      0.76        21\n",
            "           1       0.85      0.81      0.83        21\n",
            "           2       0.75      0.77      0.76        35\n",
            "\n",
            "    accuracy                           0.78        77\n",
            "   macro avg       0.79      0.78      0.78        77\n",
            "weighted avg       0.78      0.78      0.78        77\n",
            "\n",
            "\n",
            "\n",
            "validate Cunfusion Matrix===============\n",
            "\n",
            "[[16  0  5]\n",
            " [ 0 17  4]\n",
            " [ 5  3 27]] \n",
            "\n",
            "\n",
            "============================\n",
            "\n",
            "3/3 [==============================] - 0s 5ms/step - loss: 0.7396 - accuracy: 0.7532\n",
            "\n",
            "\n",
            "#Fold  2\n",
            "Accuracy : 75.32\n",
            "\n",
            "\n",
            "Validate Predict Report ===============\n",
            "\n",
            "              precision    recall  f1-score   support\n",
            "\n",
            "           0       0.68      0.71      0.70        21\n",
            "           1       0.83      0.90      0.86        21\n",
            "           2       0.75      0.69      0.72        35\n",
            "\n",
            "    accuracy                           0.75        77\n",
            "   macro avg       0.75      0.77      0.76        77\n",
            "weighted avg       0.75      0.75      0.75        77\n",
            "\n",
            "\n",
            "\n",
            "validate Cunfusion Matrix===============\n",
            "\n",
            "[[15  0  6]\n",
            " [ 0 19  2]\n",
            " [ 7  4 24]] \n",
            "\n",
            "\n",
            "============================\n",
            "\n",
            "3/3 [==============================] - 0s 4ms/step - loss: 0.8143 - accuracy: 0.7662\n",
            "\n",
            "\n",
            "#Fold  3\n",
            "Accuracy : 76.62\n",
            "\n",
            "\n",
            "Validate Predict Report ===============\n",
            "\n",
            "              precision    recall  f1-score   support\n",
            "\n",
            "           0       0.76      0.62      0.68        21\n",
            "           1       0.86      0.86      0.86        21\n",
            "           2       0.72      0.80      0.76        35\n",
            "\n",
            "    accuracy                           0.77        77\n",
            "   macro avg       0.78      0.76      0.77        77\n",
            "weighted avg       0.77      0.77      0.76        77\n",
            "\n",
            "\n",
            "\n",
            "validate Cunfusion Matrix===============\n",
            "\n",
            "[[13  0  8]\n",
            " [ 0 18  3]\n",
            " [ 4  3 28]] \n",
            "\n",
            "\n",
            "============================\n",
            "\n",
            "3/3 [==============================] - 0s 5ms/step - loss: 0.3956 - accuracy: 0.9342\n",
            "\n",
            "\n",
            "#Fold  4\n",
            "Accuracy : 93.42\n",
            "\n",
            "\n",
            "Validate Predict Report ===============\n",
            "\n",
            "              precision    recall  f1-score   support\n",
            "\n",
            "           0       0.86      0.95      0.90        20\n",
            "           1       1.00      0.95      0.98        21\n",
            "           2       0.94      0.91      0.93        35\n",
            "\n",
            "    accuracy                           0.93        76\n",
            "   macro avg       0.93      0.94      0.94        76\n",
            "weighted avg       0.94      0.93      0.93        76\n",
            "\n",
            "\n",
            "\n",
            "validate Cunfusion Matrix===============\n",
            "\n",
            "[[19  0  1]\n",
            " [ 0 20  1]\n",
            " [ 3  0 32]] \n",
            "\n",
            "\n",
            "============================\n",
            "\n",
            "\n",
            "\n",
            "#Model  1\n",
            "3/3 [==============================] - 0s 5ms/step - loss: 0.5725 - accuracy: 0.9221\n",
            "\n",
            "\n",
            "#Fold  0\n",
            "Accuracy : 92.21\n",
            "\n",
            "\n",
            "Validate Predict Report ===============\n",
            "\n",
            "              precision    recall  f1-score   support\n",
            "\n",
            "           0       0.90      0.90      0.90        20\n",
            "           1       1.00      0.91      0.95        22\n",
            "           2       0.89      0.94      0.92        35\n",
            "\n",
            "    accuracy                           0.92        77\n",
            "   macro avg       0.93      0.92      0.92        77\n",
            "weighted avg       0.92      0.92      0.92        77\n",
            "\n",
            "\n",
            "\n",
            "validate Cunfusion Matrix===============\n",
            "\n",
            "[[18  0  2]\n",
            " [ 0 20  2]\n",
            " [ 2  0 33]] \n",
            "\n",
            "\n",
            "============================\n",
            "\n",
            "3/3 [==============================] - 0s 5ms/step - loss: 0.7695 - accuracy: 0.8052\n",
            "\n",
            "\n",
            "#Fold  1\n",
            "Accuracy : 80.52\n",
            "\n",
            "\n",
            "Validate Predict Report ===============\n",
            "\n",
            "              precision    recall  f1-score   support\n",
            "\n",
            "           0       0.77      0.81      0.79        21\n",
            "           1       0.89      0.81      0.85        21\n",
            "           2       0.78      0.80      0.79        35\n",
            "\n",
            "    accuracy                           0.81        77\n",
            "   macro avg       0.82      0.81      0.81        77\n",
            "weighted avg       0.81      0.81      0.81        77\n",
            "\n",
            "\n",
            "\n",
            "validate Cunfusion Matrix===============\n",
            "\n",
            "[[17  0  4]\n",
            " [ 0 17  4]\n",
            " [ 5  2 28]] \n",
            "\n",
            "\n",
            "============================\n",
            "\n",
            "3/3 [==============================] - 0s 7ms/step - loss: 0.5527 - accuracy: 0.9091\n",
            "\n",
            "\n",
            "#Fold  2\n",
            "Accuracy : 90.91\n",
            "\n",
            "\n",
            "Validate Predict Report ===============\n",
            "\n",
            "              precision    recall  f1-score   support\n",
            "\n",
            "           0       0.83      0.90      0.86        21\n",
            "           1       1.00      0.95      0.98        21\n",
            "           2       0.91      0.89      0.90        35\n",
            "\n",
            "    accuracy                           0.91        77\n",
            "   macro avg       0.91      0.91      0.91        77\n",
            "weighted avg       0.91      0.91      0.91        77\n",
            "\n",
            "\n",
            "\n",
            "validate Cunfusion Matrix===============\n",
            "\n",
            "[[19  0  2]\n",
            " [ 0 20  1]\n",
            " [ 4  0 31]] \n",
            "\n",
            "\n",
            "============================\n",
            "\n",
            "3/3 [==============================] - 0s 6ms/step - loss: 0.4704 - accuracy: 0.8961\n",
            "\n",
            "\n",
            "#Fold  3\n",
            "Accuracy : 89.61\n",
            "\n",
            "\n",
            "Validate Predict Report ===============\n",
            "\n",
            "              precision    recall  f1-score   support\n",
            "\n",
            "           0       1.00      0.76      0.86        21\n",
            "           1       0.88      1.00      0.93        21\n",
            "           2       0.86      0.91      0.89        35\n",
            "\n",
            "    accuracy                           0.90        77\n",
            "   macro avg       0.91      0.89      0.90        77\n",
            "weighted avg       0.90      0.90      0.89        77\n",
            "\n",
            "\n",
            "\n",
            "validate Cunfusion Matrix===============\n",
            "\n",
            "[[16  0  5]\n",
            " [ 0 21  0]\n",
            " [ 0  3 32]] \n",
            "\n",
            "\n",
            "============================\n",
            "\n",
            "3/3 [==============================] - 0s 4ms/step - loss: 0.4178 - accuracy: 0.8947\n",
            "\n",
            "\n",
            "#Fold  4\n",
            "Accuracy : 89.47\n",
            "\n",
            "\n",
            "Validate Predict Report ===============\n",
            "\n",
            "              precision    recall  f1-score   support\n",
            "\n",
            "           0       0.85      0.85      0.85        20\n",
            "           1       0.95      0.95      0.95        21\n",
            "           2       0.89      0.89      0.89        35\n",
            "\n",
            "    accuracy                           0.89        76\n",
            "   macro avg       0.90      0.90      0.90        76\n",
            "weighted avg       0.89      0.89      0.89        76\n",
            "\n",
            "\n",
            "\n",
            "validate Cunfusion Matrix===============\n",
            "\n",
            "[[17  0  3]\n",
            " [ 0 20  1]\n",
            " [ 3  1 31]] \n",
            "\n",
            "\n",
            "============================\n",
            "\n",
            "\n",
            "\n",
            "#Model  2\n",
            "3/3 [==============================] - 0s 5ms/step - loss: 0.7293 - accuracy: 0.8312\n",
            "\n",
            "\n",
            "#Fold  0\n",
            "Accuracy : 83.12\n",
            "\n",
            "\n",
            "Validate Predict Report ===============\n",
            "\n",
            "              precision    recall  f1-score   support\n",
            "\n",
            "           0       0.74      0.85      0.79        20\n",
            "           1       0.84      0.95      0.89        22\n",
            "           2       0.90      0.74      0.81        35\n",
            "\n",
            "    accuracy                           0.83        77\n",
            "   macro avg       0.83      0.85      0.83        77\n",
            "weighted avg       0.84      0.83      0.83        77\n",
            "\n",
            "\n",
            "\n",
            "validate Cunfusion Matrix===============\n",
            "\n",
            "[[17  1  2]\n",
            " [ 0 21  1]\n",
            " [ 6  3 26]] \n",
            "\n",
            "\n",
            "============================\n",
            "\n",
            "3/3 [==============================] - 0s 5ms/step - loss: 0.6212 - accuracy: 0.8182\n",
            "\n",
            "\n",
            "#Fold  1\n",
            "Accuracy : 81.82\n",
            "\n",
            "\n",
            "Validate Predict Report ===============\n",
            "\n",
            "              precision    recall  f1-score   support\n",
            "\n",
            "           0       0.75      0.71      0.73        21\n",
            "           1       0.90      0.86      0.88        21\n",
            "           2       0.81      0.86      0.83        35\n",
            "\n",
            "    accuracy                           0.82        77\n",
            "   macro avg       0.82      0.81      0.81        77\n",
            "weighted avg       0.82      0.82      0.82        77\n",
            "\n",
            "\n",
            "\n",
            "validate Cunfusion Matrix===============\n",
            "\n",
            "[[15  0  6]\n",
            " [ 2 18  1]\n",
            " [ 3  2 30]] \n",
            "\n",
            "\n",
            "============================\n",
            "\n",
            "3/3 [==============================] - 0s 4ms/step - loss: 1.0012 - accuracy: 0.7403\n",
            "\n",
            "\n",
            "#Fold  2\n",
            "Accuracy : 74.03\n",
            "\n",
            "\n",
            "Validate Predict Report ===============\n",
            "\n",
            "              precision    recall  f1-score   support\n",
            "\n",
            "           0       0.61      0.52      0.56        21\n",
            "           1       1.00      0.86      0.92        21\n",
            "           2       0.68      0.80      0.74        35\n",
            "\n",
            "    accuracy                           0.74        77\n",
            "   macro avg       0.76      0.73      0.74        77\n",
            "weighted avg       0.75      0.74      0.74        77\n",
            "\n",
            "\n",
            "\n",
            "validate Cunfusion Matrix===============\n",
            "\n",
            "[[11  0 10]\n",
            " [ 0 18  3]\n",
            " [ 7  0 28]] \n",
            "\n",
            "\n",
            "============================\n",
            "\n",
            "3/3 [==============================] - 0s 3ms/step - loss: 0.6703 - accuracy: 0.7922\n",
            "\n",
            "\n",
            "#Fold  3\n",
            "Accuracy : 79.22\n",
            "\n",
            "\n",
            "Validate Predict Report ===============\n",
            "\n",
            "              precision    recall  f1-score   support\n",
            "\n",
            "           0       0.80      0.76      0.78        21\n",
            "           1       0.77      0.95      0.85        21\n",
            "           2       0.81      0.71      0.76        35\n",
            "\n",
            "    accuracy                           0.79        77\n",
            "   macro avg       0.79      0.81      0.80        77\n",
            "weighted avg       0.79      0.79      0.79        77\n",
            "\n",
            "\n",
            "\n",
            "validate Cunfusion Matrix===============\n",
            "\n",
            "[[16  0  5]\n",
            " [ 0 20  1]\n",
            " [ 4  6 25]] \n",
            "\n",
            "\n",
            "============================\n",
            "\n",
            "3/3 [==============================] - 0s 3ms/step - loss: 0.5742 - accuracy: 0.8684\n",
            "\n",
            "\n",
            "#Fold  4\n",
            "Accuracy : 86.84\n",
            "\n",
            "\n",
            "Validate Predict Report ===============\n",
            "\n",
            "              precision    recall  f1-score   support\n",
            "\n",
            "           0       0.84      0.80      0.82        20\n",
            "           1       0.95      0.90      0.93        21\n",
            "           2       0.84      0.89      0.86        35\n",
            "\n",
            "    accuracy                           0.87        76\n",
            "   macro avg       0.88      0.86      0.87        76\n",
            "weighted avg       0.87      0.87      0.87        76\n",
            "\n",
            "\n",
            "\n",
            "validate Cunfusion Matrix===============\n",
            "\n",
            "[[16  0  4]\n",
            " [ 0 19  2]\n",
            " [ 3  1 31]] \n",
            "\n",
            "\n",
            "============================\n",
            "\n",
            "\n",
            "\n",
            "#Model  3\n",
            "3/3 [==============================] - 0s 5ms/step - loss: 0.9140 - accuracy: 0.8312\n",
            "\n",
            "\n",
            "#Fold  0\n",
            "Accuracy : 83.12\n",
            "\n",
            "\n",
            "Validate Predict Report ===============\n",
            "\n",
            "              precision    recall  f1-score   support\n",
            "\n",
            "           0       0.75      0.90      0.82        20\n",
            "           1       0.90      0.86      0.88        22\n",
            "           2       0.84      0.77      0.81        35\n",
            "\n",
            "    accuracy                           0.83        77\n",
            "   macro avg       0.83      0.85      0.84        77\n",
            "weighted avg       0.84      0.83      0.83        77\n",
            "\n",
            "\n",
            "\n",
            "validate Cunfusion Matrix===============\n",
            "\n",
            "[[18  0  2]\n",
            " [ 0 19  3]\n",
            " [ 6  2 27]] \n",
            "\n",
            "\n",
            "============================\n",
            "\n",
            "3/3 [==============================] - 0s 5ms/step - loss: 0.9801 - accuracy: 0.7792\n",
            "\n",
            "\n",
            "#Fold  1\n",
            "Accuracy : 77.92\n",
            "\n",
            "\n",
            "Validate Predict Report ===============\n",
            "\n",
            "              precision    recall  f1-score   support\n",
            "\n",
            "           0       0.78      0.86      0.82        21\n",
            "           1       0.88      0.67      0.76        21\n",
            "           2       0.74      0.80      0.77        35\n",
            "\n",
            "    accuracy                           0.78        77\n",
            "   macro avg       0.80      0.77      0.78        77\n",
            "weighted avg       0.79      0.78      0.78        77\n",
            "\n",
            "\n",
            "\n",
            "validate Cunfusion Matrix===============\n",
            "\n",
            "[[18  0  3]\n",
            " [ 0 14  7]\n",
            " [ 5  2 28]] \n",
            "\n",
            "\n",
            "============================\n",
            "\n",
            "3/3 [==============================] - 0s 3ms/step - loss: 1.0072 - accuracy: 0.7273\n",
            "\n",
            "\n",
            "#Fold  2\n",
            "Accuracy : 72.73\n",
            "\n",
            "\n",
            "Validate Predict Report ===============\n",
            "\n",
            "              precision    recall  f1-score   support\n",
            "\n",
            "           0       0.64      0.76      0.70        21\n",
            "           1       0.85      0.81      0.83        21\n",
            "           2       0.72      0.66      0.69        35\n",
            "\n",
            "    accuracy                           0.73        77\n",
            "   macro avg       0.74      0.74      0.74        77\n",
            "weighted avg       0.73      0.73      0.73        77\n",
            "\n",
            "\n",
            "\n",
            "validate Cunfusion Matrix===============\n",
            "\n",
            "[[16  0  5]\n",
            " [ 0 17  4]\n",
            " [ 9  3 23]] \n",
            "\n",
            "\n",
            "============================\n",
            "\n",
            "3/3 [==============================] - 0s 5ms/step - loss: 0.6785 - accuracy: 0.8701\n",
            "\n",
            "\n",
            "#Fold  3\n",
            "Accuracy : 87.01\n",
            "\n",
            "\n",
            "Validate Predict Report ===============\n",
            "\n",
            "              precision    recall  f1-score   support\n",
            "\n",
            "           0       0.83      0.90      0.86        21\n",
            "           1       0.95      0.86      0.90        21\n",
            "           2       0.86      0.86      0.86        35\n",
            "\n",
            "    accuracy                           0.87        77\n",
            "   macro avg       0.88      0.87      0.87        77\n",
            "weighted avg       0.87      0.87      0.87        77\n",
            "\n",
            "\n",
            "\n",
            "validate Cunfusion Matrix===============\n",
            "\n",
            "[[19  0  2]\n",
            " [ 0 18  3]\n",
            " [ 4  1 30]] \n",
            "\n",
            "\n",
            "============================\n",
            "\n",
            "3/3 [==============================] - 0s 5ms/step - loss: 0.7252 - accuracy: 0.8158\n",
            "\n",
            "\n",
            "#Fold  4\n",
            "Accuracy : 81.58\n",
            "\n",
            "\n",
            "Validate Predict Report ===============\n",
            "\n",
            "              precision    recall  f1-score   support\n",
            "\n",
            "           0       0.76      0.80      0.78        20\n",
            "           1       0.83      0.95      0.89        21\n",
            "           2       0.84      0.74      0.79        35\n",
            "\n",
            "    accuracy                           0.82        76\n",
            "   macro avg       0.81      0.83      0.82        76\n",
            "weighted avg       0.82      0.82      0.81        76\n",
            "\n",
            "\n",
            "\n",
            "validate Cunfusion Matrix===============\n",
            "\n",
            "[[16  0  4]\n",
            " [ 0 20  1]\n",
            " [ 5  4 26]] \n",
            "\n",
            "\n",
            "============================\n",
            "\n",
            "\n",
            "============================\n",
            "\n"
          ]
        }
      ]
    }
  ]
}